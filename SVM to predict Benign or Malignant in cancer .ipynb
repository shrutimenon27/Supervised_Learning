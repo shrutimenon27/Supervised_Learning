{
 "cells": [
  {
   "cell_type": "code",
   "execution_count": 1,
   "id": "d47f2040",
   "metadata": {},
   "outputs": [],
   "source": [
    "import pandas as pd \n",
    "import seaborn as sns \n",
    "\n",
    "# Visualisation libraries\n",
    "import matplotlib.pyplot as plt\n",
    "import seaborn as sns"
   ]
  },
  {
   "cell_type": "code",
   "execution_count": 3,
   "id": "5fad8f46",
   "metadata": {},
   "outputs": [],
   "source": [
    "from sklearn.datasets import load_breast_cancer\n",
    "cancer_data = load_breast_cancer()"
   ]
  },
  {
   "cell_type": "code",
   "execution_count": 7,
   "id": "34bc34d8",
   "metadata": {},
   "outputs": [
    {
     "name": "stdout",
     "output_type": "stream",
     "text": [
      ".. _breast_cancer_dataset:\n",
      "\n",
      "Breast cancer wisconsin (diagnostic) dataset\n",
      "--------------------------------------------\n",
      "\n",
      "**Data Set Characteristics:**\n",
      "\n",
      "    :Number of Instances: 569\n",
      "\n",
      "    :Number of Attributes: 30 numeric, predictive attributes and the class\n",
      "\n",
      "    :Attribute Information:\n",
      "        - radius (mean of distances from center to points on the perimeter)\n",
      "        - texture (standard deviation of gray-scale values)\n",
      "        - perimeter\n",
      "        - area\n",
      "        - smoothness (local variation in radius lengths)\n",
      "        - compactness (perimeter^2 / area - 1.0)\n",
      "        - concavity (severity of concave portions of the contour)\n",
      "        - concave points (number of concave portions of the contour)\n",
      "        - symmetry\n",
      "        - fractal dimension (\"coastline approximation\" - 1)\n",
      "\n",
      "        The mean, standard error, and \"worst\" or largest (mean of the three\n",
      "        worst/largest values) of these features were computed for each image,\n",
      "        resulting in 30 features.  For instance, field 0 is Mean Radius, field\n",
      "        10 is Radius SE, field 20 is Worst Radius.\n",
      "\n",
      "        - class:\n",
      "                - WDBC-Malignant\n",
      "                - WDBC-Benign\n",
      "\n",
      "    :Summary Statistics:\n",
      "\n",
      "    ===================================== ====== ======\n",
      "                                           Min    Max\n",
      "    ===================================== ====== ======\n",
      "    radius (mean):                        6.981  28.11\n",
      "    texture (mean):                       9.71   39.28\n",
      "    perimeter (mean):                     43.79  188.5\n",
      "    area (mean):                          143.5  2501.0\n",
      "    smoothness (mean):                    0.053  0.163\n",
      "    compactness (mean):                   0.019  0.345\n",
      "    concavity (mean):                     0.0    0.427\n",
      "    concave points (mean):                0.0    0.201\n",
      "    symmetry (mean):                      0.106  0.304\n",
      "    fractal dimension (mean):             0.05   0.097\n",
      "    radius (standard error):              0.112  2.873\n",
      "    texture (standard error):             0.36   4.885\n",
      "    perimeter (standard error):           0.757  21.98\n",
      "    area (standard error):                6.802  542.2\n",
      "    smoothness (standard error):          0.002  0.031\n",
      "    compactness (standard error):         0.002  0.135\n",
      "    concavity (standard error):           0.0    0.396\n",
      "    concave points (standard error):      0.0    0.053\n",
      "    symmetry (standard error):            0.008  0.079\n",
      "    fractal dimension (standard error):   0.001  0.03\n",
      "    radius (worst):                       7.93   36.04\n",
      "    texture (worst):                      12.02  49.54\n",
      "    perimeter (worst):                    50.41  251.2\n",
      "    area (worst):                         185.2  4254.0\n",
      "    smoothness (worst):                   0.071  0.223\n",
      "    compactness (worst):                  0.027  1.058\n",
      "    concavity (worst):                    0.0    1.252\n",
      "    concave points (worst):               0.0    0.291\n",
      "    symmetry (worst):                     0.156  0.664\n",
      "    fractal dimension (worst):            0.055  0.208\n",
      "    ===================================== ====== ======\n",
      "\n",
      "    :Missing Attribute Values: None\n",
      "\n",
      "    :Class Distribution: 212 - Malignant, 357 - Benign\n",
      "\n",
      "    :Creator:  Dr. William H. Wolberg, W. Nick Street, Olvi L. Mangasarian\n",
      "\n",
      "    :Donor: Nick Street\n",
      "\n",
      "    :Date: November, 1995\n",
      "\n",
      "This is a copy of UCI ML Breast Cancer Wisconsin (Diagnostic) datasets.\n",
      "https://goo.gl/U2Uwz2\n",
      "\n",
      "Features are computed from a digitized image of a fine needle\n",
      "aspirate (FNA) of a breast mass.  They describe\n",
      "characteristics of the cell nuclei present in the image.\n",
      "\n",
      "Separating plane described above was obtained using\n",
      "Multisurface Method-Tree (MSM-T) [K. P. Bennett, \"Decision Tree\n",
      "Construction Via Linear Programming.\" Proceedings of the 4th\n",
      "Midwest Artificial Intelligence and Cognitive Science Society,\n",
      "pp. 97-101, 1992], a classification method which uses linear\n",
      "programming to construct a decision tree.  Relevant features\n",
      "were selected using an exhaustive search in the space of 1-4\n",
      "features and 1-3 separating planes.\n",
      "\n",
      "The actual linear program used to obtain the separating plane\n",
      "in the 3-dimensional space is that described in:\n",
      "[K. P. Bennett and O. L. Mangasarian: \"Robust Linear\n",
      "Programming Discrimination of Two Linearly Inseparable Sets\",\n",
      "Optimization Methods and Software 1, 1992, 23-34].\n",
      "\n",
      "This database is also available through the UW CS ftp server:\n",
      "\n",
      "ftp ftp.cs.wisc.edu\n",
      "cd math-prog/cpo-dataset/machine-learn/WDBC/\n",
      "\n",
      ".. topic:: References\n",
      "\n",
      "   - W.N. Street, W.H. Wolberg and O.L. Mangasarian. Nuclear feature extraction \n",
      "     for breast tumor diagnosis. IS&T/SPIE 1993 International Symposium on \n",
      "     Electronic Imaging: Science and Technology, volume 1905, pages 861-870,\n",
      "     San Jose, CA, 1993.\n",
      "   - O.L. Mangasarian, W.N. Street and W.H. Wolberg. Breast cancer diagnosis and \n",
      "     prognosis via linear programming. Operations Research, 43(4), pages 570-577, \n",
      "     July-August 1995.\n",
      "   - W.H. Wolberg, W.N. Street, and O.L. Mangasarian. Machine learning techniques\n",
      "     to diagnose breast cancer from fine-needle aspirates. Cancer Letters 77 (1994) \n",
      "     163-171.\n"
     ]
    }
   ],
   "source": [
    "# To see the description of the loaded data\n",
    "print(cancer_data['DESCR'])"
   ]
  },
  {
   "cell_type": "code",
   "execution_count": 10,
   "id": "e62337cd",
   "metadata": {},
   "outputs": [
    {
     "data": {
      "text/plain": [
       "dict_keys(['data', 'target', 'frame', 'target_names', 'DESCR', 'feature_names', 'filename'])"
      ]
     },
     "execution_count": 10,
     "metadata": {},
     "output_type": "execute_result"
    }
   ],
   "source": [
    "cancer_data.keys()"
   ]
  },
  {
   "cell_type": "code",
   "execution_count": 47,
   "id": "fbd36cbd",
   "metadata": {},
   "outputs": [],
   "source": [
    "features = pd.DataFrame(cancer_data['data'] , columns = cancer_data['feature_names'])\n",
    "target= cancer_data['target']"
   ]
  },
  {
   "cell_type": "code",
   "execution_count": 48,
   "id": "754910a0",
   "metadata": {},
   "outputs": [],
   "source": [
    "from sklearn.model_selection import train_test_split\n",
    "\n",
    "X = features\n",
    "y= target\n",
    "\n",
    "X_train, X_test, y_train, y_test = train_test_split( X, y, test_size=0.3, random_state=42)"
   ]
  },
  {
   "cell_type": "code",
   "execution_count": 49,
   "id": "3386f8a9",
   "metadata": {},
   "outputs": [
    {
     "data": {
      "text/plain": [
       "SVC()"
      ]
     },
     "execution_count": 49,
     "metadata": {},
     "output_type": "execute_result"
    }
   ],
   "source": [
    "from sklearn.svm import SVC\n",
    "model = SVC()\n",
    "model.fit(X_train,y_train)"
   ]
  },
  {
   "cell_type": "code",
   "execution_count": 50,
   "id": "2b817231",
   "metadata": {},
   "outputs": [],
   "source": [
    "predictions = model.predict(X_test)"
   ]
  },
  {
   "cell_type": "code",
   "execution_count": 51,
   "id": "d61816e7",
   "metadata": {},
   "outputs": [
    {
     "name": "stdout",
     "output_type": "stream",
     "text": [
      "Accuracy: 0.935672514619883\n",
      "              precision    recall  f1-score   support\n",
      "\n",
      "           0       1.00      0.83      0.90        63\n",
      "           1       0.91      1.00      0.95       108\n",
      "\n",
      "    accuracy                           0.94       171\n",
      "   macro avg       0.95      0.91      0.93       171\n",
      "weighted avg       0.94      0.94      0.93       171\n",
      "\n",
      "[[ 52  11]\n",
      " [  0 108]]\n"
     ]
    }
   ],
   "source": [
    "from sklearn.metrics import classification_report , confusion_matrix \n",
    "from sklearn import metrics\n",
    "print(\"Accuracy:\",metrics.accuracy_score(y_test, predictions))\n",
    "print(classification_report(y_test , predictions))\n",
    "print(confusion_matrix(y_test , predictions))"
   ]
  },
  {
   "cell_type": "code",
   "execution_count": 57,
   "id": "1f2d5c3b",
   "metadata": {},
   "outputs": [],
   "source": [
    "# Tuning using grid search to find best parameters by tetsing for all possible combinations\n",
    "# Parameter C: high c value less bias ( penalize the cause of missclassification) , more variance\n",
    "# large gama less variance\n",
    "\n",
    "from sklearn.model_selection import GridSearchCV\n",
    "parameters_grid = {'C':[0.1 , 1 , 10 , 100, 1000] , 'gamma':[1,0.1,0.01,0.001,0.0001]}"
   ]
  },
  {
   "cell_type": "code",
   "execution_count": 58,
   "id": "c09dbcec",
   "metadata": {},
   "outputs": [
    {
     "name": "stdout",
     "output_type": "stream",
     "text": [
      "Fitting 5 folds for each of 25 candidates, totalling 125 fits\n",
      "[CV 1/5] END .................................C=0.1, gamma=1; total time=   0.2s\n",
      "[CV 2/5] END .................................C=0.1, gamma=1; total time=   0.1s\n",
      "[CV 3/5] END .................................C=0.1, gamma=1; total time=   0.1s\n",
      "[CV 4/5] END .................................C=0.1, gamma=1; total time=   0.1s\n",
      "[CV 5/5] END .................................C=0.1, gamma=1; total time=   0.1s\n",
      "[CV 1/5] END ...............................C=0.1, gamma=0.1; total time=   0.1s\n",
      "[CV 2/5] END ...............................C=0.1, gamma=0.1; total time=   0.1s\n",
      "[CV 3/5] END ...............................C=0.1, gamma=0.1; total time=   0.1s\n",
      "[CV 4/5] END ...............................C=0.1, gamma=0.1; total time=   0.1s\n",
      "[CV 5/5] END ...............................C=0.1, gamma=0.1; total time=   0.1s\n",
      "[CV 1/5] END ..............................C=0.1, gamma=0.01; total time=   0.1s\n",
      "[CV 2/5] END ..............................C=0.1, gamma=0.01; total time=   0.1s\n",
      "[CV 3/5] END ..............................C=0.1, gamma=0.01; total time=   0.1s\n",
      "[CV 4/5] END ..............................C=0.1, gamma=0.01; total time=   0.1s\n",
      "[CV 5/5] END ..............................C=0.1, gamma=0.01; total time=   0.1s\n",
      "[CV 1/5] END .............................C=0.1, gamma=0.001; total time=   0.1s\n",
      "[CV 2/5] END .............................C=0.1, gamma=0.001; total time=   0.1s\n",
      "[CV 3/5] END .............................C=0.1, gamma=0.001; total time=   0.1s\n",
      "[CV 4/5] END .............................C=0.1, gamma=0.001; total time=   0.1s\n",
      "[CV 5/5] END .............................C=0.1, gamma=0.001; total time=   0.1s\n",
      "[CV 1/5] END ............................C=0.1, gamma=0.0001; total time=   0.1s\n",
      "[CV 2/5] END ............................C=0.1, gamma=0.0001; total time=   0.1s\n",
      "[CV 3/5] END ............................C=0.1, gamma=0.0001; total time=   0.1s\n",
      "[CV 4/5] END ............................C=0.1, gamma=0.0001; total time=   0.1s\n",
      "[CV 5/5] END ............................C=0.1, gamma=0.0001; total time=   0.1s\n",
      "[CV 1/5] END ...................................C=1, gamma=1; total time=   0.1s\n",
      "[CV 2/5] END ...................................C=1, gamma=1; total time=   0.1s\n",
      "[CV 3/5] END ...................................C=1, gamma=1; total time=   0.1s\n",
      "[CV 4/5] END ...................................C=1, gamma=1; total time=   0.1s\n",
      "[CV 5/5] END ...................................C=1, gamma=1; total time=   0.1s\n",
      "[CV 1/5] END .................................C=1, gamma=0.1; total time=   0.1s\n",
      "[CV 2/5] END .................................C=1, gamma=0.1; total time=   0.2s\n",
      "[CV 3/5] END .................................C=1, gamma=0.1; total time=   0.2s\n",
      "[CV 4/5] END .................................C=1, gamma=0.1; total time=   0.2s\n",
      "[CV 5/5] END .................................C=1, gamma=0.1; total time=   0.1s\n",
      "[CV 1/5] END ................................C=1, gamma=0.01; total time=   0.1s\n",
      "[CV 2/5] END ................................C=1, gamma=0.01; total time=   0.2s\n",
      "[CV 3/5] END ................................C=1, gamma=0.01; total time=   0.1s\n",
      "[CV 4/5] END ................................C=1, gamma=0.01; total time=   0.2s\n",
      "[CV 5/5] END ................................C=1, gamma=0.01; total time=   0.1s\n",
      "[CV 1/5] END ...............................C=1, gamma=0.001; total time=   0.0s\n",
      "[CV 2/5] END ...............................C=1, gamma=0.001; total time=   0.1s\n",
      "[CV 3/5] END ...............................C=1, gamma=0.001; total time=   0.0s\n",
      "[CV 4/5] END ...............................C=1, gamma=0.001; total time=   0.0s\n",
      "[CV 5/5] END ...............................C=1, gamma=0.001; total time=   0.0s\n",
      "[CV 1/5] END ..............................C=1, gamma=0.0001; total time=   0.0s\n",
      "[CV 2/5] END ..............................C=1, gamma=0.0001; total time=   0.0s\n",
      "[CV 3/5] END ..............................C=1, gamma=0.0001; total time=   0.0s\n",
      "[CV 4/5] END ..............................C=1, gamma=0.0001; total time=   0.0s\n",
      "[CV 5/5] END ..............................C=1, gamma=0.0001; total time=   0.0s\n",
      "[CV 1/5] END ..................................C=10, gamma=1; total time=   0.2s\n",
      "[CV 2/5] END ..................................C=10, gamma=1; total time=   0.1s\n",
      "[CV 3/5] END ..................................C=10, gamma=1; total time=   0.2s\n",
      "[CV 4/5] END ..................................C=10, gamma=1; total time=   0.1s\n",
      "[CV 5/5] END ..................................C=10, gamma=1; total time=   0.2s\n",
      "[CV 1/5] END ................................C=10, gamma=0.1; total time=   0.1s\n",
      "[CV 2/5] END ................................C=10, gamma=0.1; total time=   0.2s\n",
      "[CV 3/5] END ................................C=10, gamma=0.1; total time=   0.1s\n",
      "[CV 4/5] END ................................C=10, gamma=0.1; total time=   0.1s\n",
      "[CV 5/5] END ................................C=10, gamma=0.1; total time=   0.1s\n",
      "[CV 1/5] END ...............................C=10, gamma=0.01; total time=   0.1s\n",
      "[CV 2/5] END ...............................C=10, gamma=0.01; total time=   0.1s\n",
      "[CV 3/5] END ...............................C=10, gamma=0.01; total time=   0.1s\n",
      "[CV 4/5] END ...............................C=10, gamma=0.01; total time=   0.1s\n",
      "[CV 5/5] END ...............................C=10, gamma=0.01; total time=   0.1s\n",
      "[CV 1/5] END ..............................C=10, gamma=0.001; total time=   0.1s\n",
      "[CV 2/5] END ..............................C=10, gamma=0.001; total time=   0.1s\n",
      "[CV 3/5] END ..............................C=10, gamma=0.001; total time=   0.1s\n",
      "[CV 4/5] END ..............................C=10, gamma=0.001; total time=   0.1s\n",
      "[CV 5/5] END ..............................C=10, gamma=0.001; total time=   0.1s\n",
      "[CV 1/5] END .............................C=10, gamma=0.0001; total time=   0.0s\n",
      "[CV 2/5] END .............................C=10, gamma=0.0001; total time=   0.0s\n",
      "[CV 3/5] END .............................C=10, gamma=0.0001; total time=   0.0s\n",
      "[CV 4/5] END .............................C=10, gamma=0.0001; total time=   0.0s\n",
      "[CV 5/5] END .............................C=10, gamma=0.0001; total time=   0.0s\n",
      "[CV 1/5] END .................................C=100, gamma=1; total time=   0.1s\n",
      "[CV 2/5] END .................................C=100, gamma=1; total time=   0.1s\n",
      "[CV 3/5] END .................................C=100, gamma=1; total time=   0.1s\n",
      "[CV 4/5] END .................................C=100, gamma=1; total time=   0.1s\n",
      "[CV 5/5] END .................................C=100, gamma=1; total time=   0.1s\n",
      "[CV 1/5] END ...............................C=100, gamma=0.1; total time=   0.1s\n",
      "[CV 2/5] END ...............................C=100, gamma=0.1; total time=   0.1s\n",
      "[CV 3/5] END ...............................C=100, gamma=0.1; total time=   0.1s\n",
      "[CV 4/5] END ...............................C=100, gamma=0.1; total time=   0.1s\n",
      "[CV 5/5] END ...............................C=100, gamma=0.1; total time=   0.1s\n",
      "[CV 1/5] END ..............................C=100, gamma=0.01; total time=   0.1s\n",
      "[CV 2/5] END ..............................C=100, gamma=0.01; total time=   0.1s\n",
      "[CV 3/5] END ..............................C=100, gamma=0.01; total time=   0.1s\n",
      "[CV 4/5] END ..............................C=100, gamma=0.01; total time=   0.1s\n",
      "[CV 5/5] END ..............................C=100, gamma=0.01; total time=   0.1s\n",
      "[CV 1/5] END .............................C=100, gamma=0.001; total time=   0.1s\n",
      "[CV 2/5] END .............................C=100, gamma=0.001; total time=   0.1s\n",
      "[CV 3/5] END .............................C=100, gamma=0.001; total time=   0.1s\n",
      "[CV 4/5] END .............................C=100, gamma=0.001; total time=   0.1s\n",
      "[CV 5/5] END .............................C=100, gamma=0.001; total time=   0.1s\n",
      "[CV 1/5] END ............................C=100, gamma=0.0001; total time=   0.0s\n",
      "[CV 2/5] END ............................C=100, gamma=0.0001; total time=   0.0s\n",
      "[CV 3/5] END ............................C=100, gamma=0.0001; total time=   0.0s\n",
      "[CV 4/5] END ............................C=100, gamma=0.0001; total time=   0.0s\n",
      "[CV 5/5] END ............................C=100, gamma=0.0001; total time=   0.0s\n",
      "[CV 1/5] END ................................C=1000, gamma=1; total time=   0.1s\n"
     ]
    },
    {
     "name": "stdout",
     "output_type": "stream",
     "text": [
      "[CV 2/5] END ................................C=1000, gamma=1; total time=   0.1s\n",
      "[CV 3/5] END ................................C=1000, gamma=1; total time=   0.1s\n",
      "[CV 4/5] END ................................C=1000, gamma=1; total time=   0.1s\n",
      "[CV 5/5] END ................................C=1000, gamma=1; total time=   0.1s\n",
      "[CV 1/5] END ..............................C=1000, gamma=0.1; total time=   0.1s\n",
      "[CV 2/5] END ..............................C=1000, gamma=0.1; total time=   0.1s\n",
      "[CV 3/5] END ..............................C=1000, gamma=0.1; total time=   0.1s\n",
      "[CV 4/5] END ..............................C=1000, gamma=0.1; total time=   0.1s\n",
      "[CV 5/5] END ..............................C=1000, gamma=0.1; total time=   0.1s\n",
      "[CV 1/5] END .............................C=1000, gamma=0.01; total time=   0.1s\n",
      "[CV 2/5] END .............................C=1000, gamma=0.01; total time=   0.1s\n",
      "[CV 3/5] END .............................C=1000, gamma=0.01; total time=   0.1s\n",
      "[CV 4/5] END .............................C=1000, gamma=0.01; total time=   0.1s\n",
      "[CV 5/5] END .............................C=1000, gamma=0.01; total time=   0.1s\n",
      "[CV 1/5] END ............................C=1000, gamma=0.001; total time=   0.1s\n",
      "[CV 2/5] END ............................C=1000, gamma=0.001; total time=   0.1s\n",
      "[CV 3/5] END ............................C=1000, gamma=0.001; total time=   0.1s\n",
      "[CV 4/5] END ............................C=1000, gamma=0.001; total time=   0.1s\n",
      "[CV 5/5] END ............................C=1000, gamma=0.001; total time=   0.0s\n",
      "[CV 1/5] END ...........................C=1000, gamma=0.0001; total time=   0.0s\n",
      "[CV 2/5] END ...........................C=1000, gamma=0.0001; total time=   0.0s\n",
      "[CV 3/5] END ...........................C=1000, gamma=0.0001; total time=   0.0s\n",
      "[CV 4/5] END ...........................C=1000, gamma=0.0001; total time=   0.0s\n",
      "[CV 5/5] END ...........................C=1000, gamma=0.0001; total time=   0.0s\n"
     ]
    },
    {
     "data": {
      "text/plain": [
       "GridSearchCV(estimator=SVC(),\n",
       "             param_grid={'C': [0.1, 1, 10, 100, 1000],\n",
       "                         'gamma': [1, 0.1, 0.01, 0.001, 0.0001]},\n",
       "             verbose=3)"
      ]
     },
     "execution_count": 58,
     "metadata": {},
     "output_type": "execute_result"
    }
   ],
   "source": [
    "grid_model = GridSearchCV(SVC(),parameters_grid, verbose = 3)\n",
    "grid_model.fit(X_train , y_train)"
   ]
  },
  {
   "cell_type": "code",
   "execution_count": 59,
   "id": "fa5a551e",
   "metadata": {},
   "outputs": [
    {
     "data": {
      "text/plain": [
       "{'C': 100, 'gamma': 0.0001}"
      ]
     },
     "execution_count": 59,
     "metadata": {},
     "output_type": "execute_result"
    }
   ],
   "source": [
    "grid_model.best_params_"
   ]
  },
  {
   "cell_type": "code",
   "execution_count": 60,
   "id": "11fb02d0",
   "metadata": {},
   "outputs": [],
   "source": [
    "predictions = grid_model.predict(X_test)"
   ]
  },
  {
   "cell_type": "code",
   "execution_count": 61,
   "id": "add91506",
   "metadata": {},
   "outputs": [
    {
     "name": "stdout",
     "output_type": "stream",
     "text": [
      "Accuracy: 0.9532163742690059\n",
      "              precision    recall  f1-score   support\n",
      "\n",
      "           0       0.97      0.90      0.93        63\n",
      "           1       0.95      0.98      0.96       108\n",
      "\n",
      "    accuracy                           0.95       171\n",
      "   macro avg       0.96      0.94      0.95       171\n",
      "weighted avg       0.95      0.95      0.95       171\n",
      "\n",
      "[[ 57   6]\n",
      " [  2 106]]\n"
     ]
    }
   ],
   "source": [
    "from sklearn.metrics import classification_report , confusion_matrix \n",
    "from sklearn import metrics\n",
    "print(\"Accuracy:\",metrics.accuracy_score(y_test, predictions))\n",
    "print(classification_report(y_test , predictions))\n",
    "print(confusion_matrix(y_test , predictions))"
   ]
  },
  {
   "cell_type": "code",
   "execution_count": null,
   "id": "15bd5662",
   "metadata": {},
   "outputs": [],
   "source": []
  }
 ],
 "metadata": {
  "kernelspec": {
   "display_name": "Python 3",
   "language": "python",
   "name": "python3"
  },
  "language_info": {
   "codemirror_mode": {
    "name": "ipython",
    "version": 3
   },
   "file_extension": ".py",
   "mimetype": "text/x-python",
   "name": "python",
   "nbconvert_exporter": "python",
   "pygments_lexer": "ipython3",
   "version": "3.8.8"
  }
 },
 "nbformat": 4,
 "nbformat_minor": 5
}
